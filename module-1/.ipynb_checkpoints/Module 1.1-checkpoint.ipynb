{
 "cells": [
  {
   "cell_type": "markdown",
   "id": "f1ef7202",
   "metadata": {},
   "source": [
    "# Module 1: Descriptive Statistics"
   ]
  },
  {
   "cell_type": "markdown",
   "id": "84e249f1",
   "metadata": {},
   "source": [
    "**Descriptive statistics** adalah metode statistik yang digunakan untuk merangkum dan menggambarkan informasi dasar dari sebuah dataset. \n",
    "\n",
    "Metode statistik ini meliputi berbagai ukuran pemusatan  seperti mean (rata-rata), median (nilai tengah), dan mode (nilai yang paling sering muncul), serta ukuran penyebaran seperti range, variance, dan standard deviation. \n",
    "\n",
    "Tujuan dari descriptive statistics adalah untuk **menyajikan data dengan cara yang lebih terstruktur dan mudah dimengerti**, sehingga memudahkan dalam analisis dan interpretasi."
   ]
  },
  {
   "cell_type": "markdown",
   "id": "e497e892",
   "metadata": {},
   "source": [
    "## Table of Contents"
   ]
  },
  {
   "cell_type": "markdown",
   "id": "cb5594cd",
   "metadata": {},
   "source": [
    " 1. [Measures of Central Tendency](#measures-of-central-tendency)\n",
    " 2. [Measures of Variability](#measures-of-variability)\n",
    " 3. [Percentiles and Quartiles](#percentiles-and-quartiles)\n",
    " 4. [Skewness and Kurtosis](#skewness-and-kurtosis)"
   ]
  },
  {
   "cell_type": "markdown",
   "id": "503c6c5a",
   "metadata": {},
   "source": [
    "## 1. Measures of Central Tendency\n",
    "\n",
    "**Ukuran Pemusatan** adalah statistik deskriptif yang digunakan untuk menggambarkan pusat distribusi data. Ini memberikan titik tengah atau \"pusat\" dari suatu distribusi data. Ada beberapa ukuran kecenderungan sentral yang umum digunakan, termasuk:\n",
    "\n",
    "1. Mean (Rata-rata)\n",
    "2. Median\n",
    "3. Mode\n",
    "\n",
    "### a. Mean (Rata-Rata)\n",
    "\n",
    "Jumlah dari semua nilai dalam dataset dibagi dengan jumlah total nilai."
   ]
  },
  {
   "cell_type": "code",
   "execution_count": 20,
   "id": "3ccfcad4",
   "metadata": {
    "vscode": {
     "languageId": "plaintext"
    }
   },
   "outputs": [
    {
     "name": "stdout",
     "output_type": "stream",
     "text": [
      "Data: [25, 12, 30, 30, 35, 29, 22, 19, 34, 17]\n",
      "Jumlah semua nilai: 253\n",
      "Jumlah total data: 10\n",
      "Mean: 25.3\n"
     ]
    }
   ],
   "source": [
    "# Inisialisasi dataset\n",
    "data = [25, 12, 30, 30, 35, 29, 22, 19, 34, 17]\n",
    "print(f\"Data: {data}\")\n",
    "\n",
    "# Jumlah nilai dalam dataset \n",
    "jumlah_nilai = sum(data)\n",
    "print(f\"Jumlah semua nilai: {jumlah_nilai}\")\n",
    "\n",
    "# Jumlah total data dalam dataset \n",
    "jumlah_total_data = len(data)\n",
    "print(f\"Jumlah total data: {jumlah_total_data}\")\n",
    "\n",
    "# Jumlah semua nilai dalam dataset \n",
    "mean_value = jumlah_nilai / jumlah_total_data\n",
    "print(f\"Mean: {mean_value}\")"
   ]
  },
  {
   "cell_type": "markdown",
   "id": "4ab8e60b",
   "metadata": {},
   "source": [
    "### b. Median\n",
    "Nilai tengah dalam dataset ketika data diurutkan dari terkecil hingga terbesar. Jika ada jumlah data genap, median adalah rata-rata dari dua nilai tengah."
   ]
  },
  {
   "cell_type": "code",
   "execution_count": 50,
   "id": "9cc754b6",
   "metadata": {
    "vscode": {
     "languageId": "plaintext"
    }
   },
   "outputs": [
    {
     "name": "stdout",
     "output_type": "stream",
     "text": [
      "Data: [25, 12, 30, 30, 35, 29, 22, 19, 34, 17]\n",
      "Data berurut: [12, 17, 19, 22, 25, 29, 30, 30, 34, 35]\n",
      "Jumlah total data: 10\n",
      "Jumlah total data Genap\n",
      "Nilai tengah: 29 25\n",
      "Median: 27.0\n"
     ]
    }
   ],
   "source": [
    "# Inisialisasi dataset\n",
    "data = [25, 12, 30, 30, 35, 29, 22, 19, 34, 17]\n",
    "print(f\"Data: {data}\")\n",
    "\n",
    "# Mengurutkan data dari terkecil hingga terbesar\n",
    "sorted_data = sorted(data)\n",
    "print(f\"Data berurut: {sorted_data}\")\n",
    "\n",
    "# Jumlah total data dalam dataset \n",
    "n = len(sorted_data)\n",
    "print(f\"Jumlah total data: {n}\")\n",
    "\n",
    "index_tengah = n//2 # double slash // is used for floor division\n",
    "\n",
    "# Jika jumlah data genap, median adalah rata-rata dari dua nilai tengah \n",
    "if n % 2 == 0:\n",
    "    print(f\"Jumlah total data Genap\")\n",
    "    median1 = sorted_data[index_tengah]\n",
    "    median2 = sorted_data[index_tengah - 1]\n",
    "    print(f\"Nilai tengah: {median1} {median2}\")\n",
    "    median_value = (median1 + median2) / 2\n",
    "    \n",
    "# Jika jumlah data ganjil, median adalah nilai tengah\n",
    "else:\n",
    "    print(f\"Jumlah total data Ganjil\")\n",
    "    median_value = sorted_data[index_tengah]\n",
    "    print(f\"Nilai tengah: {median_value}\")\n",
    "\n",
    "print(f\"Median: {median_value}\")"
   ]
  },
  {
   "cell_type": "markdown",
   "id": "f7f771fa",
   "metadata": {},
   "source": [
    "### c. Mode (Modus)\n",
    "Nilai atau kategori yang paling sering muncul dalam dataset."
   ]
  },
  {
   "cell_type": "code",
   "execution_count": 47,
   "id": "637e08ea",
   "metadata": {},
   "outputs": [
    {
     "name": "stdout",
     "output_type": "stream",
     "text": [
      "Data: [25, 12, 30, 30, 35, 29, 22, 19, 34, 17]\n",
      "Max Counter: 2\n",
      "25 muncul 1 kali\n",
      "12 muncul 1 kali\n",
      "30 muncul 2 kali\n",
      "35 muncul 1 kali\n",
      "29 muncul 1 kali\n",
      "22 muncul 1 kali\n",
      "19 muncul 1 kali\n",
      "34 muncul 1 kali\n",
      "17 muncul 1 kali\n",
      "Mode: 30\n"
     ]
    }
   ],
   "source": [
    "# Import library Counter untuk menghitung modus\n",
    "from collections import Counter\n",
    "\n",
    "# Inisialisasi dataset\n",
    "data = [25, 12, 30, 30, 35, 29, 22, 19, 34, 17]\n",
    "print(f\"Data: {data}\")\n",
    "\n",
    "counter = Counter(data)\n",
    "mode_data = dict(counter) # ubah ke tipe data dictionary\n",
    "max_counter = max(list(counter.values())) # mencari data yang memiliki counter paling banyak\n",
    "print(f\"Max Counter: {max_counter}\")\n",
    "\n",
    "mode_value = None\n",
    "for k, v in mode_data.items():\n",
    "    print(f\"{k} muncul {v} kali\")\n",
    "    if v == max(list(counter.values())) and mode_value == None:\n",
    "        mode_value = k\n",
    "    \n",
    "print(f\"Mode: {mode_value}\")"
   ]
  },
  {
   "cell_type": "markdown",
   "id": "0ac01f5c",
   "metadata": {},
   "source": [
    "### Visualization"
   ]
  },
  {
   "cell_type": "code",
   "execution_count": 49,
   "id": "6162fff6",
   "metadata": {},
   "outputs": [
    {
     "data": {
      "image/png": "[encoded data removed]",
      "text/plain": [
       "<Figure size 640x480 with 1 Axes>"
      ]
     },
     "metadata": {},
     "output_type": "display_data"
    }
   ],
   "source": [
    "import matplotlib.pyplot as plt\n",
    "\n",
    "# Create a bar chart\n",
    "labels = ['Mean', 'Median', 'Mode']\n",
    "values = [mean_value, median_value, mode_value]\n",
    "\n",
    "plt.bar(labels, values, color=['blue', 'green', 'red'])\n",
    "plt.xlabel('Measures of Central Tendency')\n",
    "plt.ylabel('Values')\n",
    "plt.title('Visualization of Measures of Central Tendency')\n",
    "plt.show()"
   ]
  },
  {
   "cell_type": "markdown",
   "id": "4900d537",
   "metadata": {},
   "source": [
    "## 2. Measures of Variability\n",
    "\n",
    "**Ukuran Penyebaran** adalah kumpulan statistik yang mengukur sejauh mana data tersebar atau bervariasi dari nilai tengah atau rata-rata. Ini memberikan informasi tentang seberapa heterogen atau homogen distribusi data. Beberapa ukuran variabilitas termasuk Rentang (Range), Varians (Variance), dan Deviasi Standar (Standard Deviation). Masing-masing dari ukuran ini memberikan perspektif berbeda tentang sebaran data.\n",
    "\n",
    "1. Range\n",
    "2. Variance\n",
    "3. Standard Deviation\n",
    "\n",
    "### a. Range\n",
    "\n",
    "Selisih antara nilai tertinggi (maksimum) dan nilai terendah (minimum) dalam kumpulan data. Rentang mengukur sebaran atau variasi data di antara nilai ekstrem."
   ]
  },
  {
   "cell_type": "code",
   "execution_count": 1,
   "id": "c58b0b54",
   "metadata": {},
   "outputs": [
    {
     "name": "stdout",
     "output_type": "stream",
     "text": [
      "Data: [25, 12, 30, 30, 35, 29, 22, 19, 34, 17]\n",
      "Range: 23\n"
     ]
    }
   ],
   "source": [
    "# Inisialisasi dataset\n",
    "data = [25, 12, 30, 30, 35, 29, 22, 19, 34, 17]\n",
    "print(f\"Data: {data}\")\n",
    "\n",
    "nilai_tertinggi = max(data)\n",
    "print(f\"Nilai tertinggi: {nilai_tertinggi}\")\n",
    "\n",
    "nilai_terendah = min(data)\n",
    "print(f\"Nilai terendah: {nilai_terendah}\")\n",
    "\n",
    "# Calculate Range\n",
    "data_range = max(data) - min(data)\n",
    "print(f\"Range: {data_range}\")"
   ]
  },
  {
   "cell_type": "markdown",
   "id": "1e7c969c",
   "metadata": {},
   "source": [
    "### b. Variance\n",
    "Ukuran statistik yang mengukur sebaran atau variasi data dari rata-rata. Variansi dihitung dengan menjumlahkan kuadrat selisih antara setiap nilai data dengan rata-rata, kemudian dibagi dengan jumlah total data."
   ]
  },
  {
   "cell_type": "markdown",
   "id": "75206c94",
   "metadata": {},
   "source": [
    "### c. Standard Deviation\n",
    "Standar deviasi memberikan gambaran tentang seberapa jauh data tersebar dari rata-rata. Semakin tinggi deviasi standar, semakin besar variasi atau sebaran data. Standar deviasi adalah akar kuadrat dari varians "
   ]
  },
  {
   "cell_type": "code",
   "execution_count": null,
   "id": "54986aa3",
   "metadata": {},
   "outputs": [],
   "source": []
  }
 ],
 "metadata": {
  "kernelspec": {
   "display_name": "Python 3 (ipykernel)",
   "language": "python",
   "name": "python3"
  },
  "language_info": {
   "codemirror_mode": {
    "name": "ipython",
    "version": 3
   },
   "file_extension": ".py",
   "mimetype": "text/x-python",
   "name": "python",
   "nbconvert_exporter": "python",
   "pygments_lexer": "ipython3",
   "version": "3.11.4"
  }
 },
 "nbformat": 4,
 "nbformat_minor": 5
}
